{
 "cells": [
  {
   "cell_type": "code",
   "execution_count": 1,
   "id": "a9ec1e99",
   "metadata": {},
   "outputs": [
    {
     "name": "stdout",
     "output_type": "stream",
     "text": [
      "Data saved to upbit_arb_60_days.csv\n",
      "Reversed data saved to upbit_arb_60_days_reversed.csv\n"
     ]
    }
   ],
   "source": [
    "import requests\n",
    "import pandas as pd\n",
    "from datetime import datetime, timedelta\n",
    "\n",
    "# Constants\n",
    "UPBIT_URL = \"https://api.upbit.com/v1/candles/days\"\n",
    "MARKET_CODE = \"KRW-ARB\"  # Assuming ARB is traded against KRW, adjust if necessary\n",
    "DAYS_COUNT = 600\n",
    "\n",
    "# Function to fetch daily data\n",
    "def fetch_daily_data(market_code, days):\n",
    "    end_date = datetime.now()\n",
    "    all_data = []\n",
    "\n",
    "    while len(all_data) < days:\n",
    "        params = {\n",
    "            \"market\": market_code,\n",
    "            \"to\": end_date.strftime('%Y-%m-%dT%H:%M:%S'),\n",
    "            \"count\": min(days - len(all_data), 200)  # API may have limits, adjust accordingly\n",
    "        }\n",
    "        response = requests.get(UPBIT_URL, params=params)\n",
    "        data = response.json()\n",
    "\n",
    "        if not data:\n",
    "            break\n",
    "\n",
    "        all_data.extend(data)\n",
    "        # Update end_date to fetch previous data in next iteration\n",
    "        last_date = datetime.strptime(data[-1]['candle_date_time_utc'], '%Y-%m-%dT%H:%M:%S')\n",
    "        end_date = last_date - timedelta(seconds=1)\n",
    "\n",
    "    return all_data[:days]\n",
    "\n",
    "# Fetch the data\n",
    "data = fetch_daily_data(MARKET_CODE, DAYS_COUNT)\n",
    "\n",
    "# Convert to DataFrame for easier handling\n",
    "df = pd.DataFrame(data)\n",
    "\n",
    "# Selecting relevant columns and renaming for clarity\n",
    "df_relevant = df[['candle_date_time_kst', 'opening_price', 'high_price', 'low_price', 'trade_price', 'candle_acc_trade_volume']].copy()\n",
    "df_relevant.columns = ['Date', 'Open', 'High', 'Low', 'Close', 'Volume']\n",
    "\n",
    "# Save to CSV\n",
    "csv_file_path = 'upbit_arb_60_days.csv'\n",
    "df_relevant.to_csv(csv_file_path, index=False)\n",
    "\n",
    "print(f\"Data saved to {csv_file_path}\")\n"
   ]
  },
  {
   "cell_type": "code",
   "execution_count": null,
   "id": "9ff1adc1",
   "metadata": {},
   "outputs": [],
   "source": [
    "# 데이터 프레임을 역순으로 정렬\n",
    "df_reversed = df_relevant.iloc[::-1].reset_index(drop=True)\n",
    "\n",
    "# 역순으로 정렬된 데이터를 새로운 CSV 파일에 저장\n",
    "reversed_csv_file_path = 'upbit_arb_60_days_reversed.csv'\n",
    "df_reversed.to_csv(reversed_csv_file_path, index=False)\n",
    "\n",
    "print(f\"Reversed data saved to {reversed_csv_file_path}\")"
   ]
  }
 ],
 "metadata": {
  "kernelspec": {
   "display_name": "Python 3 (ipykernel)",
   "language": "python",
   "name": "python3"
  },
  "language_info": {
   "codemirror_mode": {
    "name": "ipython",
    "version": 3
   },
   "file_extension": ".py",
   "mimetype": "text/x-python",
   "name": "python",
   "nbconvert_exporter": "python",
   "pygments_lexer": "ipython3",
   "version": "3.11.5"
  }
 },
 "nbformat": 4,
 "nbformat_minor": 5
}
